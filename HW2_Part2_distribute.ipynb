{
  "nbformat": 4,
  "nbformat_minor": 0,
  "metadata": {
    "colab": {
      "name": "HW2_Part2_distribute.ipynb",
      "provenance": [],
      "collapsed_sections": [],
      "machine_shape": "hm"
    },
    "kernelspec": {
      "name": "python3",
      "display_name": "Python 3"
    },
    "language_info": {
      "name": "python"
    },
    "accelerator": "TPU"
  },
  "cells": [
    {
      "cell_type": "markdown",
      "metadata": {
        "id": "EaA1H2AHyVWQ"
      },
      "source": [
        "# ML-2: Trees, Model Interrogation and Bayesian Workflow\n",
        "# Homework 2: Rossman Kaggle: Forecasting Sales\n",
        "# Part 2 : Modelling without embeddings!\n",
        "**ML-2 Cohort 1** <br>\n",
        "**Instructor: Dr. Rahul Dave**<br>\n",
        "**Max Score: 100** <br>"
      ]
    },
    {
      "cell_type": "code",
      "metadata": {
        "id": "6jBFtovs3nh1"
      },
      "source": [
        "#importing libraries\n",
        "import numpy as np\n",
        "import scipy.stats\n",
        "import scipy.special\n",
        "import matplotlib\n",
        "import matplotlib.pyplot as plt\n",
        "import matplotlib.mlab as mlab\n",
        "from matplotlib import cm\n",
        "import pandas as pd\n",
        "from sklearn.pipeline import make_pipeline, make_union, Pipeline\n",
        "from sklearn.preprocessing import StandardScaler, OrdinalEncoder\n",
        "from sklearn.metrics import mean_squared_error\n",
        "from sklearn.ensemble import GradientBoostingRegressor\n",
        "from sklearn.model_selection import ParameterGrid, train_test_split\n",
        "from keras.models import Sequential\n",
        "from keras.models import Model as KerasModel\n",
        "from keras.layers import Input, Dense, Activation, Reshape\n",
        "from keras.layers import Concatenate\n",
        "from keras.layers.embeddings import Embedding\n",
        "from sklearn.ensemble import RandomForestRegressor\n",
        "from sklearn import linear_model\n",
        "import pickle\n",
        "import csv\n",
        "from datetime import datetime\n",
        "from sklearn import preprocessing\n",
        "from keras.callbacks import ModelCheckpoint\n",
        "import xgboost as xgb\n",
        "from sklearn.preprocessing import OneHotEncoder\n",
        "%matplotlib inline"
      ],
      "execution_count": 17,
      "outputs": []
    },
    {
      "cell_type": "markdown",
      "metadata": {
        "id": "N2sEs45v7Rr2"
      },
      "source": [
        "## Part 2: Modelling without Entity Embeddings"
      ]
    },
    {
      "cell_type": "markdown",
      "metadata": {
        "id": "Uk7vU2zkGSXG"
      },
      "source": [
        "Remember the parameters we need to use\n",
        "\n",
        "![Parameters.jpeg](https://drive.google.com/uc?export=view&id=1ROfqM3F5hWwJyrvQr_J1ATovNIW5niOs)"
      ]
    },
    {
      "cell_type": "markdown",
      "metadata": {
        "id": "h5Hi8ehR7WFX"
      },
      "source": [
        "Lets import the feature_train_data.pickle file and set X,y values from the pickle file"
      ]
    },
    {
      "cell_type": "code",
      "metadata": {
        "id": "arl_aj6X7VQk"
      },
      "source": [
        "f = open('feature_train_data.pickle', 'rb') \n",
        "(X, y) = pickle.load(f)"
      ],
      "execution_count": 18,
      "outputs": []
    },
    {
      "cell_type": "code",
      "metadata": {
        "id": "cwMxtFTUDRFN"
      },
      "source": [
        "# we will split the train_ratio and 90% and 10% and set the train_size\n",
        "train_ratio = 0.9\n",
        "num_records = len(X)\n",
        "train_size = int(train_ratio * num_records)"
      ],
      "execution_count": 19,
      "outputs": []
    },
    {
      "cell_type": "code",
      "metadata": {
        "id": "XpP1Emg2Dni0",
        "colab": {
          "base_uri": "https://localhost:8080/"
        },
        "outputId": "82a6d385-48bf-46b7-eda0-0b938afabf50"
      },
      "source": [
        "#lets look at our data\n",
        "X[1], y[1]"
      ],
      "execution_count": 20,
      "outputs": [
        {
          "output_type": "execute_result",
          "data": {
            "text/plain": [
              "(array([   0, 1058,    1,    0,    0,    0,    0,    1]), 4491)"
            ]
          },
          "metadata": {
            "tags": []
          },
          "execution_count": 20
        }
      ]
    },
    {
      "cell_type": "code",
      "metadata": {
        "id": "12MwFh-sEscO",
        "colab": {
          "base_uri": "https://localhost:8080/"
        },
        "outputId": "072160f0-ed16-4d63-93d0-abe620a03e0b"
      },
      "source": [
        "np.unique(X[:, 7]) #2, 4, 5 and 7."
      ],
      "execution_count": 21,
      "outputs": [
        {
          "output_type": "execute_result",
          "data": {
            "text/plain": [
              "array([ 0,  1,  2,  3,  4,  5,  6,  7,  8,  9, 10, 11])"
            ]
          },
          "metadata": {
            "tags": []
          },
          "execution_count": 21
        }
      ]
    },
    {
      "cell_type": "markdown",
      "metadata": {
        "id": "X2fhYw49Dz3w"
      },
      "source": [
        "The next set of inputs is following:\n",
        "\n",
        "1. Do you want to one hot encode the data?\n",
        "2. Do you want to provide embeddings as input - this will be set to True for models with entity embeddings\n",
        "3. Do you want to save the emmbeddings? - again set to true if you want to entity embeddings\n",
        "4. if 3 is set to true, we want to save them to a embeddings.pickle\n"
      ]
    },
    {
      "cell_type": "code",
      "metadata": {
        "id": "Tqtv6VWWDuZu"
      },
      "source": [
        "one_hot_as_input = True #one_hot is set to True\n",
        "embeddings_as_input = False #embeddings later on needs to set to true for Part 3\n",
        "save_embeddings = False\n",
        "saved_embeddings_fname = \"embeddings.pickle\"  # set save_embeddings to True to create this file"
      ],
      "execution_count": 22,
      "outputs": []
    },
    {
      "cell_type": "markdown",
      "metadata": {
        "id": "BPSoah0_F9Ed"
      },
      "source": [
        "Define a function to one hot encode the training set and after split transform your training set using the function"
      ]
    },
    {
      "cell_type": "code",
      "metadata": {
        "id": "KS03CrxWjcNN"
      },
      "source": [
        "def Ohe(data):\n",
        "  processesed_data = []\n",
        "  enc = OneHotEncoder(handle_unknown='ignore')\n",
        "  ohe_data = data[:, [2, 4, 5, 7]] #Only these columns need to be one hot encoded\n",
        "  enc.fit(ohe_data)\n",
        "  transformed_data = enc.transform(ohe_data).toarray().astype(int)\n",
        "  for i in range(len(transformed_data)):\n",
        "    try:\n",
        "      processesed_data.append(np.concatenate([transformed_data[i], data[i, [0, 1, 3, 6]]]))\n",
        "    except:\n",
        "      print(i)\n",
        "  return np.array(processesed_data)\n",
        "\n",
        "\n",
        "    "
      ],
      "execution_count": 23,
      "outputs": []
    },
    {
      "cell_type": "markdown",
      "metadata": {
        "id": "PCk7tyVQEdy6"
      },
      "source": [
        "Split the data into X_train, X_val, y_train, y_val based on the train_size"
      ]
    },
    {
      "cell_type": "code",
      "metadata": {
        "id": "hLTrTSGPEaGw"
      },
      "source": [
        "X_train, X_val, y_train, y_val = train_test_split(X, y, train_size= train_size, random_state=42)"
      ],
      "execution_count": 24,
      "outputs": []
    },
    {
      "cell_type": "code",
      "metadata": {
        "id": "B1VlHVKnPJUL"
      },
      "source": [
        "X_train_processed = Ohe(X_train)"
      ],
      "execution_count": 25,
      "outputs": []
    },
    {
      "cell_type": "code",
      "metadata": {
        "id": "tupOKRQraUPD"
      },
      "source": [
        "X_val_processed = Ohe(X_val)"
      ],
      "execution_count": 26,
      "outputs": []
    },
    {
      "cell_type": "markdown",
      "metadata": {
        "id": "m1-ykazxEhLC"
      },
      "source": [
        "Lets also sample the data\n",
        "\n",
        "**Why do we do this??**\n",
        "\n",
        "Sample is used make inferences about a population. It's cost efficient to use a sample rather than the entire dataset. It's important to ensure that we suffle the population and pick random samples. It enables models to work with a small, manageable amount of data about a statistical population to build and run analytical models more quickly, while still producing accurate findings."
      ]
    },
    {
      "cell_type": "code",
      "metadata": {
        "id": "StnmulRkEnRt"
      },
      "source": [
        "def sample(X, y, n):\n",
        "    '''random samples'''\n",
        "    num_row = X.shape[0]\n",
        "    indices = np.random.randint(num_row, size=n)\n",
        "    return X[indices, :], y[indices]"
      ],
      "execution_count": 27,
      "outputs": []
    },
    {
      "cell_type": "code",
      "metadata": {
        "id": "ednNv14aEpjS",
        "colab": {
          "base_uri": "https://localhost:8080/"
        },
        "outputId": "4a8aa91b-75dc-4861-bf6f-9c7dcf1084ea"
      },
      "source": [
        "X_train, y_train = sample(X_train_processed, y_train, 200000)  # Simulate data sparsity\n",
        "print(\"Number of samples used for training: \" + str(y_train.shape[0]))"
      ],
      "execution_count": 28,
      "outputs": [
        {
          "output_type": "stream",
          "text": [
            "Number of samples used for training: 200000\n"
          ],
          "name": "stdout"
        }
      ]
    },
    {
      "cell_type": "markdown",
      "metadata": {
        "id": "4ayLSo_1E0yF"
      },
      "source": [
        "## Now lets work with Models without embedding!!"
      ]
    },
    {
      "cell_type": "markdown",
      "metadata": {
        "id": "KT5efxrLE7Cd"
      },
      "source": [
        "**Lets define MAPE first**"
      ]
    },
    {
      "cell_type": "code",
      "metadata": {
        "id": "ZRpKGtOLE6TV"
      },
      "source": [
        "#defining mape\n",
        "def MAPE(Y_actual,Y_Predicted):\n",
        "  return np.mean(np.abs((Y_actual - Y_Predicted) / Y_actual)) * 100"
      ],
      "execution_count": 29,
      "outputs": []
    },
    {
      "cell_type": "markdown",
      "metadata": {
        "id": "P1c33g9Kjlcr"
      },
      "source": [
        "**We will be log-transforming the dependent variable(y) because it is long-tailed** - keep this in mind for each model or do the conversion after you split the data itself"
      ]
    },
    {
      "cell_type": "code",
      "metadata": {
        "id": "R_dh8fO1dscp"
      },
      "source": [
        "y_train = np.log(y_train)"
      ],
      "execution_count": 30,
      "outputs": []
    },
    {
      "cell_type": "code",
      "metadata": {
        "id": "fyIZ-tKKd1Es"
      },
      "source": [
        "y_val = np.log(y_val)"
      ],
      "execution_count": 31,
      "outputs": []
    },
    {
      "cell_type": "markdown",
      "metadata": {
        "id": "3VxpJyr-Gct-"
      },
      "source": [
        "### 2.1: Random Forests\n",
        "\n",
        "1. Define a RandomForestRegressor model - with n_esitmators = 200, max_depth = 35, min_samples_split = 2, min_samples_leaf = 1\n",
        "2. Fit on the training data\n",
        "3. Predict on the validation and training data\n",
        "4. evaluate the model - calculate the MAPE for validation and training data\n",
        "\n",
        "**These parameters are from the paper** "
      ]
    },
    {
      "cell_type": "code",
      "metadata": {
        "id": "kGX-_sRYkxPv"
      },
      "source": [
        "rf_reg = RandomForestRegressor(n_estimators = 200, max_depth = 35, min_samples_split = 2, min_samples_leaf = 1)\n",
        "rf_reg.fit(X_train, y_train)\n",
        "\n",
        "rf_train_pred = rf_reg.predict(X_train)\n",
        "rf_val_pred = rf_reg.predict(X_val_processed)"
      ],
      "execution_count": 32,
      "outputs": []
    },
    {
      "cell_type": "code",
      "metadata": {
        "colab": {
          "base_uri": "https://localhost:8080/"
        },
        "id": "VUWHWNSchaUh",
        "outputId": "8f2acdd7-9dca-4cae-b967-0c61875116c7"
      },
      "source": [
        "print(\"The mean absolute percentage error on training data is \", np.round(MAPE(y_train, rf_train_pred), 3))"
      ],
      "execution_count": 33,
      "outputs": [
        {
          "output_type": "stream",
          "text": [
            "The mean absolute percentage error on training data is  0.644\n"
          ],
          "name": "stdout"
        }
      ]
    },
    {
      "cell_type": "code",
      "metadata": {
        "colab": {
          "base_uri": "https://localhost:8080/"
        },
        "id": "WITeH6zBhrTg",
        "outputId": "ee087f5c-e348-4e9c-d6c3-7da62e649e79"
      },
      "source": [
        "print(\"The mean absolute percentage error on validation data is \", np.round(MAPE(y_val, rf_val_pred), 3))"
      ],
      "execution_count": 35,
      "outputs": [
        {
          "output_type": "stream",
          "text": [
            "The mean absolute percentage error on validation data is  1.762\n"
          ],
          "name": "stdout"
        }
      ]
    },
    {
      "cell_type": "markdown",
      "metadata": {
        "id": "wcSEUp3GHC_Q"
      },
      "source": [
        "### 2.2 Boosted Trees"
      ]
    },
    {
      "cell_type": "markdown",
      "metadata": {
        "id": "0Cq3sVKaHRAL"
      },
      "source": [
        "For boosting, we will use XGBoost for regression\n",
        "1. We will create a DMatrix from XGB for this - because we want to define a param_grid here. \n",
        "  * Again look at the parameters from the paper\n",
        "2. The DMatrix should be provided with X_train and label as y_train\n",
        "3. Parameters will be as follows:\n",
        "  * 'nthread': -1,\n",
        "  * 'max_depth': 7,\n",
        "  * 'eta': 0.02,\n",
        "  * 'silent': 1,\n",
        "  * 'objective': 'reg:linear',\n",
        "  * 'colsample_bytree': 0.7,\n",
        "  * 'subsample': 0.7\n",
        "  * num_round = 3000\n",
        "\n",
        "4. Train the model\n",
        "\n",
        "5. Note xgb.DMatrix needs features from Xtrain and Xval while predicting. Hence define:\n",
        "```\n",
        "feature_Xtr = xgb.DMatrix(X_train)\n",
        "feature_Xval = xgb.DMatrix(X_val)\n",
        "```\n",
        "5. Predict on feature_Xtr and feature_Xval \n",
        "6. Calculate MAPE for both\n",
        "\n",
        "\n",
        "\n",
        "Look at XGBoost [documentation](https://xgboost.readthedocs.io/en/latest/python/python_intro.html) for each parameter information"
      ]
    },
    {
      "cell_type": "code",
      "metadata": {
        "id": "m1--s_4pGOuB"
      },
      "source": [
        "#your code here\n",
        "DM_train = xgb.DMatrix(data = X_train, \n",
        "                       label = y_train)"
      ],
      "execution_count": 36,
      "outputs": []
    },
    {
      "cell_type": "code",
      "metadata": {
        "id": "Qe8_3dGhsz8t"
      },
      "source": [
        "param  = {'nthread' : -1, \n",
        "           'max_depth': 7, \n",
        "           'eta': 0.02,\n",
        "           'silent': 1,\n",
        "           'objective': 'reg:linear',\n",
        "           'colsample_bytree': 0.7,\n",
        "           'subsample': 0.7}\n",
        "\n",
        "num_round = 3000"
      ],
      "execution_count": 37,
      "outputs": []
    },
    {
      "cell_type": "code",
      "metadata": {
        "id": "Mqb1_eSis1NF"
      },
      "source": [
        "bst = xgb.train(param, DM_train, num_round)"
      ],
      "execution_count": 38,
      "outputs": []
    },
    {
      "cell_type": "code",
      "metadata": {
        "id": "oXkMZ6q1s3pc"
      },
      "source": [
        "feature_Xtr = xgb.DMatrix(X_train)\n",
        "feature_Xval = xgb.DMatrix(X_val_processed)"
      ],
      "execution_count": 39,
      "outputs": []
    },
    {
      "cell_type": "code",
      "metadata": {
        "id": "1o3XBi4ns4Hj"
      },
      "source": [
        "xgb_y_pred_train = bst.predict(feature_Xtr)\n",
        "xgb_y_pred_val = bst.predict(feature_Xval)"
      ],
      "execution_count": 40,
      "outputs": []
    },
    {
      "cell_type": "code",
      "metadata": {
        "id": "EziFIOCGs5h-"
      },
      "source": [
        "xgb_mape_train= MAPE(y_train, xgb_y_pred_train)\n",
        "xgb_mape_val= MAPE(y_val, xgb_y_pred_val)"
      ],
      "execution_count": 41,
      "outputs": []
    },
    {
      "cell_type": "code",
      "metadata": {
        "id": "aDgMl_p_s625",
        "colab": {
          "base_uri": "https://localhost:8080/"
        },
        "outputId": "57452965-ca9a-4bb9-cbc0-5576fcccdbf1"
      },
      "source": [
        "print(\"The mean absolute percentage error on training data is \", np.round(xgb_mape_train, 3))"
      ],
      "execution_count": 42,
      "outputs": [
        {
          "output_type": "stream",
          "text": [
            "The mean absolute percentage error on training data is  1.183\n"
          ],
          "name": "stdout"
        }
      ]
    },
    {
      "cell_type": "code",
      "metadata": {
        "id": "YM6dYPhUs9ba",
        "colab": {
          "base_uri": "https://localhost:8080/"
        },
        "outputId": "dcb0d475-0a0b-41ed-821d-a29f20115547"
      },
      "source": [
        "print(\"The mean absolute percentage error on validation data is \", np.round(xgb_mape_val, 3))"
      ],
      "execution_count": 43,
      "outputs": [
        {
          "output_type": "stream",
          "text": [
            "The mean absolute percentage error on validation data is  1.257\n"
          ],
          "name": "stdout"
        }
      ]
    },
    {
      "cell_type": "markdown",
      "metadata": {
        "id": "1LIINAciJtWi"
      },
      "source": [
        "### 2.3 Multi Layer Perceptron"
      ]
    },
    {
      "cell_type": "markdown",
      "metadata": {
        "id": "6wdjE8AgN-Ma"
      },
      "source": [
        "Define a Sequential model with the following:\n",
        "(Read the Part VI Part A Neural Networks)\n",
        "\n",
        "1. Dense Layer - 1000 neurons, keep the kernel_initializer as uniform, with activaation as relu\n",
        "2. Dense Layer - 500 neurons, keep the kernel_initializer as uniform, with activaation as relu\n",
        "3. Final dense layer with 1 neuron, and activation as sigmoid\n",
        "4. Compile the model on mean absolute error and optimizer as adam\n",
        "5. Fit the model on 10 epochs and batch size as 128, find the MAPE "
      ]
    },
    {
      "cell_type": "code",
      "metadata": {
        "id": "G_wvmj1lNmhR",
        "colab": {
          "base_uri": "https://localhost:8080/"
        },
        "outputId": "97b5d836-7a7f-4fb4-88fe-86f064b790e3"
      },
      "source": [
        "#Build the model\n",
        "#your code here\n",
        "from tensorflow.keras import models\n",
        "from tensorflow.keras import layers\n",
        "from tensorflow.keras import optimizers\n",
        "\n",
        "mlp_model = models.Sequential(name='MLP')\n",
        "\n",
        "mlp_model.add(layers.Dense(1000,  kernel_initializer = 'uniform', activation = 'relu', input_shape = X_train[1].shape ))\n",
        "mlp_model.add(layers.Dense(500,  kernel_initializer = 'uniform', activation = 'relu'))\n",
        "\n",
        "mlp_model.add(layers.Dense(1, activation = 'sigmoid',name='output' ))\n",
        "\n",
        "# View the model summary\n",
        "mlp_model.summary()\n"
      ],
      "execution_count": 44,
      "outputs": [
        {
          "output_type": "stream",
          "text": [
            "Model: \"MLP\"\n",
            "_________________________________________________________________\n",
            "Layer (type)                 Output Shape              Param #   \n",
            "=================================================================\n",
            "dense (Dense)                (None, 1000)              39000     \n",
            "_________________________________________________________________\n",
            "dense_1 (Dense)              (None, 500)               500500    \n",
            "_________________________________________________________________\n",
            "output (Dense)               (None, 1)                 501       \n",
            "=================================================================\n",
            "Total params: 540,001\n",
            "Trainable params: 540,001\n",
            "Non-trainable params: 0\n",
            "_________________________________________________________________\n"
          ],
          "name": "stdout"
        }
      ]
    },
    {
      "cell_type": "code",
      "metadata": {
        "id": "O-qcYmI5la84"
      },
      "source": [
        "#we will rescale our y_train for the model\n",
        "#the reason for this is mentioned in the paper in the same section\n",
        "# to see this change you can plot the log(Sale) vs log(Sale_max) and see how it varies\n",
        "max_log_y = max(np.max(np.log(y_train)), np.max(np.log(y_val)))\n",
        "fitting_y = np.log(y_train) / max_log_y"
      ],
      "execution_count": 45,
      "outputs": []
    },
    {
      "cell_type": "code",
      "metadata": {
        "id": "Ma0dWZiBtSsD"
      },
      "source": [
        "mlp_model.compile(optimizers.Adam(), loss = 'mae')\n"
      ],
      "execution_count": 46,
      "outputs": []
    },
    {
      "cell_type": "code",
      "metadata": {
        "id": "hD14nr4ik0re",
        "colab": {
          "base_uri": "https://localhost:8080/"
        },
        "outputId": "bead125b-b5ad-4045-c7c3-58e19c70e795"
      },
      "source": [
        "#fit your model \n",
        "#your code here\n",
        "history = mlp_model.fit(X_train, fitting_y, epochs = 10, batch_size = 128, validation_data=(X_val_processed,  y_val) )"
      ],
      "execution_count": 47,
      "outputs": [
        {
          "output_type": "stream",
          "text": [
            "Epoch 1/10\n",
            "1563/1563 [==============================] - 10s 6ms/step - loss: 0.0851 - val_loss: 7.7561\n",
            "Epoch 2/10\n",
            "1563/1563 [==============================] - 10s 6ms/step - loss: 0.0803 - val_loss: 7.7561\n",
            "Epoch 3/10\n",
            "1563/1563 [==============================] - 10s 6ms/step - loss: 0.0801 - val_loss: 7.7561\n",
            "Epoch 4/10\n",
            "1563/1563 [==============================] - 10s 6ms/step - loss: 0.0801 - val_loss: 7.7561\n",
            "Epoch 5/10\n",
            "1563/1563 [==============================] - 10s 6ms/step - loss: 0.0801 - val_loss: 7.7561\n",
            "Epoch 6/10\n",
            "1563/1563 [==============================] - 10s 6ms/step - loss: 0.0800 - val_loss: 7.7561\n",
            "Epoch 7/10\n",
            "1563/1563 [==============================] - 10s 7ms/step - loss: 0.0801 - val_loss: 7.7561\n",
            "Epoch 8/10\n",
            "1563/1563 [==============================] - 9s 6ms/step - loss: 0.0801 - val_loss: 7.7561\n",
            "Epoch 9/10\n",
            "1563/1563 [==============================] - 9s 6ms/step - loss: 0.0802 - val_loss: 7.7561\n",
            "Epoch 10/10\n",
            "1563/1563 [==============================] - 9s 6ms/step - loss: 0.0801 - val_loss: 7.7561\n"
          ],
          "name": "stdout"
        }
      ]
    },
    {
      "cell_type": "code",
      "metadata": {
        "id": "aN0zoTVdG2MI"
      },
      "source": [
        "#predict and mape calculation\n",
        "#your code here\n",
        "mlp_y_pred_train = mlp_model.predict(X_train)\n",
        "mlp_y_pred_val = mlp_model.predict(X_val_processed)"
      ],
      "execution_count": 48,
      "outputs": []
    },
    {
      "cell_type": "code",
      "metadata": {
        "id": "7ab5noMDtZdq"
      },
      "source": [
        "mlp_mape_train= MAPE(y_train, mlp_y_pred_train)\n",
        "mlp_mape_val= MAPE(y_val, mlp_y_pred_val)"
      ],
      "execution_count": null,
      "outputs": []
    },
    {
      "cell_type": "markdown",
      "metadata": {
        "id": "T-5celHwnaLO"
      },
      "source": [
        "# You are done with Part 2!!\n",
        "Print out the MAPE values for all models, you will need this in hand while working on Part 3 for comparing!"
      ]
    }
  ]
}